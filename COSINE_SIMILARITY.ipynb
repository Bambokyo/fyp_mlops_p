{
 "cells": [
  {
   "cell_type": "code",
   "execution_count": 1,
   "id": "7187efb3",
   "metadata": {},
   "outputs": [],
   "source": [
    "import pandas as pd\n",
    "import numpy as np"
   ]
  },
  {
   "cell_type": "code",
   "execution_count": 5,
   "id": "523f7be6",
   "metadata": {},
   "outputs": [],
   "source": [
    "df = pd.read_csv('All_Motions_HDMO5.csv')"
   ]
  },
  {
   "cell_type": "code",
   "execution_count": 6,
   "id": "d279a6f4",
   "metadata": {},
   "outputs": [
    {
     "data": {
      "text/html": [
       "<div>\n",
       "<style scoped>\n",
       "    .dataframe tbody tr th:only-of-type {\n",
       "        vertical-align: middle;\n",
       "    }\n",
       "\n",
       "    .dataframe tbody tr th {\n",
       "        vertical-align: top;\n",
       "    }\n",
       "\n",
       "    .dataframe thead th {\n",
       "        text-align: right;\n",
       "    }\n",
       "</style>\n",
       "<table border=\"1\" class=\"dataframe\">\n",
       "  <thead>\n",
       "    <tr style=\"text-align: right;\">\n",
       "      <th></th>\n",
       "      <th>concatenatedData1</th>\n",
       "      <th>concatenatedData2</th>\n",
       "      <th>concatenatedData3</th>\n",
       "      <th>concatenatedData4</th>\n",
       "      <th>concatenatedData5</th>\n",
       "      <th>concatenatedData6</th>\n",
       "      <th>concatenatedData7</th>\n",
       "      <th>concatenatedData8</th>\n",
       "      <th>concatenatedData9</th>\n",
       "      <th>concatenatedData10</th>\n",
       "      <th>...</th>\n",
       "      <th>concatenatedData53</th>\n",
       "      <th>concatenatedData54</th>\n",
       "      <th>concatenatedData55</th>\n",
       "      <th>concatenatedData56</th>\n",
       "      <th>concatenatedData57</th>\n",
       "      <th>concatenatedData58</th>\n",
       "      <th>concatenatedData59</th>\n",
       "      <th>concatenatedData60</th>\n",
       "      <th>concatenatedData61</th>\n",
       "      <th>concatenatedData62</th>\n",
       "    </tr>\n",
       "  </thead>\n",
       "  <tbody>\n",
       "    <tr>\n",
       "      <th>0</th>\n",
       "      <td>0.265295</td>\n",
       "      <td>17.5109</td>\n",
       "      <td>0.523677</td>\n",
       "      <td>176.028</td>\n",
       "      <td>-3.74942</td>\n",
       "      <td>-173.601</td>\n",
       "      <td>-0.309412</td>\n",
       "      <td>-2.46091</td>\n",
       "      <td>3.39509</td>\n",
       "      <td>3.76268</td>\n",
       "      <td>...</td>\n",
       "      <td>-16.9985</td>\n",
       "      <td>-16.4969</td>\n",
       "      <td>-13.4516</td>\n",
       "      <td>-3.75153</td>\n",
       "      <td>1.52122</td>\n",
       "      <td>-12.0332</td>\n",
       "      <td>30.8148</td>\n",
       "      <td>-16.2715</td>\n",
       "      <td>-6.13846</td>\n",
       "      <td>-11.8476</td>\n",
       "    </tr>\n",
       "    <tr>\n",
       "      <th>1</th>\n",
       "      <td>0.266271</td>\n",
       "      <td>17.5109</td>\n",
       "      <td>0.523666</td>\n",
       "      <td>176.026</td>\n",
       "      <td>-3.72983</td>\n",
       "      <td>-173.605</td>\n",
       "      <td>-0.296523</td>\n",
       "      <td>-2.44674</td>\n",
       "      <td>3.39178</td>\n",
       "      <td>3.75454</td>\n",
       "      <td>...</td>\n",
       "      <td>-17.0005</td>\n",
       "      <td>-16.4481</td>\n",
       "      <td>-13.4642</td>\n",
       "      <td>-3.73629</td>\n",
       "      <td>1.48597</td>\n",
       "      <td>-12.0430</td>\n",
       "      <td>30.8018</td>\n",
       "      <td>-16.2780</td>\n",
       "      <td>-6.08593</td>\n",
       "      <td>-11.8693</td>\n",
       "    </tr>\n",
       "    <tr>\n",
       "      <th>2</th>\n",
       "      <td>0.266901</td>\n",
       "      <td>17.5112</td>\n",
       "      <td>0.523643</td>\n",
       "      <td>176.041</td>\n",
       "      <td>-3.72403</td>\n",
       "      <td>-173.630</td>\n",
       "      <td>-0.299313</td>\n",
       "      <td>-2.44469</td>\n",
       "      <td>3.35841</td>\n",
       "      <td>3.74294</td>\n",
       "      <td>...</td>\n",
       "      <td>-16.9945</td>\n",
       "      <td>-16.4572</td>\n",
       "      <td>-13.4844</td>\n",
       "      <td>-3.74343</td>\n",
       "      <td>1.50645</td>\n",
       "      <td>-12.0663</td>\n",
       "      <td>30.7907</td>\n",
       "      <td>-16.2539</td>\n",
       "      <td>-6.09253</td>\n",
       "      <td>-11.7911</td>\n",
       "    </tr>\n",
       "    <tr>\n",
       "      <th>3</th>\n",
       "      <td>0.267077</td>\n",
       "      <td>17.5117</td>\n",
       "      <td>0.523412</td>\n",
       "      <td>176.058</td>\n",
       "      <td>-3.71171</td>\n",
       "      <td>-173.629</td>\n",
       "      <td>-0.321607</td>\n",
       "      <td>-2.43955</td>\n",
       "      <td>3.37520</td>\n",
       "      <td>3.75255</td>\n",
       "      <td>...</td>\n",
       "      <td>-16.9890</td>\n",
       "      <td>-16.4135</td>\n",
       "      <td>-13.4948</td>\n",
       "      <td>-3.75775</td>\n",
       "      <td>1.50539</td>\n",
       "      <td>-12.0651</td>\n",
       "      <td>30.7863</td>\n",
       "      <td>-16.2525</td>\n",
       "      <td>-6.07753</td>\n",
       "      <td>-11.7942</td>\n",
       "    </tr>\n",
       "    <tr>\n",
       "      <th>4</th>\n",
       "      <td>0.267596</td>\n",
       "      <td>17.5117</td>\n",
       "      <td>0.523608</td>\n",
       "      <td>176.057</td>\n",
       "      <td>-3.69216</td>\n",
       "      <td>-173.630</td>\n",
       "      <td>-0.296692</td>\n",
       "      <td>-2.43395</td>\n",
       "      <td>3.36890</td>\n",
       "      <td>3.73568</td>\n",
       "      <td>...</td>\n",
       "      <td>-16.9905</td>\n",
       "      <td>-16.4075</td>\n",
       "      <td>-13.5011</td>\n",
       "      <td>-3.74822</td>\n",
       "      <td>1.46980</td>\n",
       "      <td>-12.0739</td>\n",
       "      <td>30.7830</td>\n",
       "      <td>-16.2643</td>\n",
       "      <td>-6.02508</td>\n",
       "      <td>-11.8006</td>\n",
       "    </tr>\n",
       "  </tbody>\n",
       "</table>\n",
       "<p>5 rows × 62 columns</p>\n",
       "</div>"
      ],
      "text/plain": [
       "   concatenatedData1  concatenatedData2  concatenatedData3  concatenatedData4  \\\n",
       "0           0.265295            17.5109           0.523677            176.028   \n",
       "1           0.266271            17.5109           0.523666            176.026   \n",
       "2           0.266901            17.5112           0.523643            176.041   \n",
       "3           0.267077            17.5117           0.523412            176.058   \n",
       "4           0.267596            17.5117           0.523608            176.057   \n",
       "\n",
       "   concatenatedData5  concatenatedData6  concatenatedData7  concatenatedData8  \\\n",
       "0           -3.74942           -173.601          -0.309412           -2.46091   \n",
       "1           -3.72983           -173.605          -0.296523           -2.44674   \n",
       "2           -3.72403           -173.630          -0.299313           -2.44469   \n",
       "3           -3.71171           -173.629          -0.321607           -2.43955   \n",
       "4           -3.69216           -173.630          -0.296692           -2.43395   \n",
       "\n",
       "   concatenatedData9  concatenatedData10  ...  concatenatedData53  \\\n",
       "0            3.39509             3.76268  ...            -16.9985   \n",
       "1            3.39178             3.75454  ...            -17.0005   \n",
       "2            3.35841             3.74294  ...            -16.9945   \n",
       "3            3.37520             3.75255  ...            -16.9890   \n",
       "4            3.36890             3.73568  ...            -16.9905   \n",
       "\n",
       "   concatenatedData54  concatenatedData55  concatenatedData56  \\\n",
       "0            -16.4969            -13.4516            -3.75153   \n",
       "1            -16.4481            -13.4642            -3.73629   \n",
       "2            -16.4572            -13.4844            -3.74343   \n",
       "3            -16.4135            -13.4948            -3.75775   \n",
       "4            -16.4075            -13.5011            -3.74822   \n",
       "\n",
       "   concatenatedData57  concatenatedData58  concatenatedData59  \\\n",
       "0             1.52122            -12.0332             30.8148   \n",
       "1             1.48597            -12.0430             30.8018   \n",
       "2             1.50645            -12.0663             30.7907   \n",
       "3             1.50539            -12.0651             30.7863   \n",
       "4             1.46980            -12.0739             30.7830   \n",
       "\n",
       "   concatenatedData60  concatenatedData61  concatenatedData62  \n",
       "0            -16.2715            -6.13846            -11.8476  \n",
       "1            -16.2780            -6.08593            -11.8693  \n",
       "2            -16.2539            -6.09253            -11.7911  \n",
       "3            -16.2525            -6.07753            -11.7942  \n",
       "4            -16.2643            -6.02508            -11.8006  \n",
       "\n",
       "[5 rows x 62 columns]"
      ]
     },
     "execution_count": 6,
     "metadata": {},
     "output_type": "execute_result"
    }
   ],
   "source": [
    "df.head()"
   ]
  },
  {
   "cell_type": "code",
   "execution_count": 7,
   "id": "bf03f23c",
   "metadata": {},
   "outputs": [
    {
     "data": {
      "text/plain": [
       "1416650"
      ]
     },
     "execution_count": 7,
     "metadata": {},
     "output_type": "execute_result"
    }
   ],
   "source": [
    "len(df)"
   ]
  },
  {
   "cell_type": "markdown",
   "id": "4d5ac555",
   "metadata": {},
   "source": [
    "## Retrieval Implementation"
   ]
  },
  {
   "cell_type": "code",
   "execution_count": 182,
   "id": "4c1024e0",
   "metadata": {},
   "outputs": [],
   "source": [
    "import pandas as pd\n",
    "import numpy as np\n",
    "from sklearn.metrics.pairwise import cosine_similarity\n",
    "import time\n",
    "import os\n",
    "import sys\n",
    "\n",
    "\n",
    "# database\n",
    "motionDataTable = df"
   ]
  },
  {
   "cell_type": "code",
   "execution_count": 183,
   "id": "f938cee8",
   "metadata": {},
   "outputs": [
    {
     "name": "stdout",
     "output_type": "stream",
     "text": [
      "711224\n"
     ]
    }
   ],
   "source": [
    "## INPUT\n",
    "# Generate a random row index from the DataFrame\n",
    "randomRowIndex = np.random.randint(0, len(motionDataTable))\n",
    "# Get the random row from the DataFrame\n",
    "randomRow = motionDataTable.iloc[randomRowIndex]\n",
    "#reshaing\n",
    "randomRow = np.array(randomRow)\n",
    "randomRow = randomRow[0:].reshape(62, 1)\n",
    "\n",
    "print(randomRowIndex)"
   ]
  },
  {
   "cell_type": "code",
   "execution_count": 184,
   "id": "06e0bf45",
   "metadata": {},
   "outputs": [],
   "source": [
    "# Extract the data from motionDataTable\n",
    "motion_data = motionDataTable.iloc[:, 0:]\n",
    "# Reshape randomRow to match motion_data dimensions\n",
    "randomRow = randomRow.reshape(1, -1)"
   ]
  },
  {
   "cell_type": "code",
   "execution_count": 185,
   "id": "3ef4a694",
   "metadata": {},
   "outputs": [],
   "source": [
    "\n",
    "# first parameter is input , second is database of poses\n",
    "def Pose_Retreival_and_Metrics(randomRow,motion_data):\n",
    "    \n",
    "    \n",
    "    retrievalTimes = np.zeros(5)  # To store retrieval time for each similar pose\n",
    "    cosineSimilarities = np.zeros(5)  # To store cosine similarity scores\n",
    "    mseValues = np.zeros(5)  # To store Mean Squared Error (MSE)\n",
    "    mpjpe_values = np.zeros(5)  # To store Mean Squared Error (mpjpe_values)\n",
    "    pck_values = np.zeros(5)  # To store Mean Squared Error (pck_values)\n",
    "    \n",
    "    start_time = time.time()\n",
    "    \n",
    "    # Compute cosine similarity between randomRow and all rows in motion_data\n",
    "    cosine_similarities = cosine_similarity(randomRow, motion_data)\n",
    "\n",
    "    # Get the top 5 indices with highest cosine similarity\n",
    "    sortedIndices = np.argsort(cosine_similarities[0])[::-1][:5]\n",
    "\n",
    "    for i in range(5):\n",
    "\n",
    "        if i != 0:\n",
    "            start_time = time.time()\n",
    "\n",
    "        # Get the data for the i-th similar pose\n",
    "        rowData = motion_data.iloc[sortedIndices[i]]\n",
    "        rowDataMatrix = rowData[0:]\n",
    "\n",
    "        rowDataMatrix = np.array(rowDataMatrix)\n",
    "        rowDataMatrix = rowDataMatrix.reshape(1, -1)\n",
    "\n",
    "        # Measure the retrieval time for cosine similarity\n",
    "        retrievalTimes[i] = time.time() - start_time\n",
    "\n",
    "        # Compute MSE between input and retrieved poses\n",
    "        mse = np.mean((randomRow[0:] - rowDataMatrix) ** 2)\n",
    "        mseValues[i] = mse\n",
    "\n",
    "        # Compute MPJPE (Mean Per Joint Position Error)\n",
    "        mpjpe = np.mean(np.linalg.norm(randomRow[0:] - rowDataMatrix, axis=1))\n",
    "\n",
    "        # Compute PCK (Percentage of Correct Keypoints)\n",
    "        threshold = 5  # Set a threshold for correctness\n",
    "        correct_keypoints = np.linalg.norm(randomRow[0:] - rowDataMatrix, axis=1) < threshold\n",
    "        pck = np.sum(correct_keypoints) / len(correct_keypoints)\n",
    "\n",
    "        mpjpe_values[i] =  mpjpe\n",
    "        pck_values[i] = pck\n",
    "        \n",
    "    return motion_data.iloc[sortedIndices], retrievalTimes, mseValues, mpjpe_values, pck_values\n",
    "    "
   ]
  },
  {
   "cell_type": "code",
   "execution_count": 186,
   "id": "add2fd23",
   "metadata": {},
   "outputs": [],
   "source": [
    "Retreived_poses, retrievalTimes, mseValues, mpjpe_values, pck_values = Pose_Retreival_and_Metrics(randomRow,motion_data)"
   ]
  },
  {
   "cell_type": "code",
   "execution_count": 187,
   "id": "b19a531f",
   "metadata": {},
   "outputs": [
    {
     "name": "stdout",
     "output_type": "stream",
     "text": [
      "Top 5 most similar rows:\n",
      "\n",
      "Retrieval Times:\n",
      "[0.97599697 0.         0.0010016  0.         0.        ]\n",
      "\n",
      "MSE Values:\n",
      "[0.         0.11050002 0.11336127 0.44253976 0.44592474]\n",
      "\\MPJPE  Values:\n",
      "[0.         2.61744176 2.65111269 5.23807838 5.25807319]\n",
      "\n",
      "PCK Values:\n",
      "[1. 1. 1. 0. 0.]\n"
     ]
    }
   ],
   "source": [
    "print('Top 5 most similar rows:')\n",
    "# print(motionDataTable.iloc[sortedIndices])\n",
    "\n",
    "# Display retrieval times\n",
    "print('\\nRetrieval Times:')\n",
    "print(retrievalTimes)\n",
    "\n",
    "# Display MSE values\n",
    "print('\\nMSE Values:')\n",
    "print(mseValues)\n",
    "\n",
    "# Display MSE values\n",
    "print('\\MPJPE  Values:')\n",
    "print(mpjpe_values)\n",
    "\n",
    "\n",
    "# Display PCK values\n",
    "print('\\nPCK Values:')\n",
    "print(pck_values)"
   ]
  },
  {
   "cell_type": "markdown",
   "id": "46c2e0af",
   "metadata": {},
   "source": [
    "## Visualization"
   ]
  },
  {
   "cell_type": "code",
   "execution_count": 188,
   "id": "cd8ea7e6",
   "metadata": {},
   "outputs": [],
   "source": [
    "import matplotlib.pyplot as plt\n",
    "\n",
    "\n",
    "def Evaluation_Visualization(retrievalTimes,mseValues,mpjpe_values,pck_values):\n",
    "\n",
    "    # Create a bar graph with a logarithmic scale to visualize retrieval times\n",
    "    plt.figure(figsize=(10, 5))\n",
    "    plt.bar(range(5), retrievalTimes)\n",
    "    plt.xlabel('Similar Poses')\n",
    "    plt.ylabel('Retrieval Time (seconds)')\n",
    "    plt.title('Retrieval Time for Similar Poses')\n",
    "    plt.xticks(range(5), [f'Pose {i + 1}' for i in range(5)])\n",
    "    plt.yscale('log')  # Apply logarithmic scaling to the y-axis\n",
    "    plt.ylim(1e-5, 1)  # Set the y-axis limits as needed\n",
    "    plt.show()\n",
    "\n",
    "    # Create a bar graph to visualize MSE values\n",
    "    plt.figure(figsize=(10, 5))\n",
    "    plt.bar(range(5), mseValues)\n",
    "    plt.xlabel('Similar Poses')\n",
    "    plt.ylabel('MSE')\n",
    "    plt.title('MSE for Similar Poses')\n",
    "    plt.xticks(range(5), [f'Pose {i + 1}' for i in range(5)])\n",
    "    plt.show()\n",
    "\n",
    "\n",
    "    # MPJPE bar graph\n",
    "    plt.figure(figsize=(10, 5))\n",
    "    plt.bar(range(len(mpjpe_values)), mpjpe_values)\n",
    "    plt.xlabel('Pose Index')\n",
    "    plt.ylabel('MPJPE')\n",
    "    plt.title('Mean Per Joint Position Error (MPJPE) for Similar Poses')\n",
    "    plt.xticks(range(len(mpjpe_values)), [f'Pose {i + 1}' for i in range(len(mpjpe_values))])\n",
    "    plt.show()\n",
    "\n",
    "    # PCK bar graph\n",
    "    plt.figure(figsize=(10, 5))\n",
    "    plt.bar(range(len(pck_values)), pck_values)\n",
    "    plt.xlabel('Pose Index')\n",
    "    plt.ylabel('PCK')\n",
    "    plt.title('Percentage of Correct Keypoints (PCK) for Similar Poses')\n",
    "    plt.xticks(range(len(pck_values)), [f'Pose {i + 1}' for i in range(len(pck_values))])\n",
    "    plt.show()\n",
    "\n",
    "\n"
   ]
  },
  {
   "cell_type": "code",
   "execution_count": 189,
   "id": "85c1b105",
   "metadata": {},
   "outputs": [
    {
     "data": {
      "image/png": "[encoded data removed]",
      "text/plain": [
       "<Figure size 720x360 with 1 Axes>"
      ]
     },
     "metadata": {
      "needs_background": "light"
     },
     "output_type": "display_data"
    },
    {
     "data": {
      "image/png": "[encoded data removed]",
      "text/plain": [
       "<Figure size 720x360 with 1 Axes>"
      ]
     },
     "metadata": {
      "needs_background": "light"
     },
     "output_type": "display_data"
    },
    {
     "data": {
      "image/png": "[encoded data removed]",
      "text/plain": [
       "<Figure size 720x360 with 1 Axes>"
      ]
     },
     "metadata": {
      "needs_background": "light"
     },
     "output_type": "display_data"
    },
    {
     "data": {
      "image/png": "[encoded data removed]",
      "text/plain": [
       "<Figure size 720x360 with 1 Axes>"
      ]
     },
     "metadata": {
      "needs_background": "light"
     },
     "output_type": "display_data"
    }
   ],
   "source": [
    "Evaluation_Visualization(retrievalTimes,mseValues,mpjpe_values,pck_values)"
   ]
  },
  {
   "cell_type": "code",
   "execution_count": null,
   "id": "1033e12c",
   "metadata": {},
   "outputs": [],
   "source": []
  },
  {
   "cell_type": "code",
   "execution_count": null,
   "id": "b7925344",
   "metadata": {},
   "outputs": [],
   "source": []
  }
 ],
 "metadata": {
  "kernelspec": {
   "display_name": "Python 3 (ipykernel)",
   "language": "python",
   "name": "python3"
  },
  "language_info": {
   "codemirror_mode": {
    "name": "ipython",
    "version": 3
   },
   "file_extension": ".py",
   "mimetype": "text/x-python",
   "name": "python",
   "nbconvert_exporter": "python",
   "pygments_lexer": "ipython3",
   "version": "3.9.12"
  }
 },
 "nbformat": 4,
 "nbformat_minor": 5
}
